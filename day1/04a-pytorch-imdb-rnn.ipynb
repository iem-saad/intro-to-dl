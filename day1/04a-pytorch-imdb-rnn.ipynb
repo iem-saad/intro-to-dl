{
 "cells": [
  {
   "cell_type": "markdown",
   "metadata": {},
   "source": [
    "# IMDB movie review sentiment classification with RNNs\n",
    "\n",
    "In this notebook, we'll train a recurrent neural network (RNN) for sentiment classification using **PyTorch**.\n",
    "\n",
    "First, the needed imports. "
   ]
  },
  {
   "cell_type": "code",
   "execution_count": 10,
   "metadata": {},
   "outputs": [
    {
     "name": "stdout",
     "output_type": "stream",
     "text": [
      "Using PyTorch version: 2.4.1+rocm6.1\n",
      "Using GPU, device name: AMD Instinct MI250X\n"
     ]
    }
   ],
   "source": [
    "%matplotlib inline\n",
    "\n",
    "import torch\n",
    "import torch.nn as nn\n",
    "from torch.utils.data import DataLoader\n",
    "\n",
    "from datasets import load_dataset\n",
    "from tokenizers import Tokenizer\n",
    "from tokenizers import models, trainers, pre_tokenizers, normalizers\n",
    "\n",
    "import numpy as np\n",
    "import matplotlib.pyplot as plt\n",
    "from tqdm import tqdm\n",
    "import os\n",
    "\n",
    "print('Using PyTorch version:', torch.__version__)\n",
    "if torch.cuda.is_available():\n",
    "    print('Using GPU, device name:', torch.cuda.get_device_name(0))\n",
    "    device = torch.device('cuda')\n",
    "else:\n",
    "    print('No GPU found, using CPU instead.') \n",
    "    device = torch.device('cpu')"
   ]
  },
  {
   "cell_type": "markdown",
   "metadata": {},
   "source": [
    "## IMDB data set\n",
    "\n",
    "Next we'll load the IMDB data set using the [Datasets library from Hugging Face](https://huggingface.co/docs/datasets/index).\n",
    "\n",
    "The dataset contains 50000 movies reviews from the Internet Movie Database, split into 25000 reviews for training and 25000 reviews for testing. Half of the reviews are positive and half are negative."
   ]
  },
  {
   "cell_type": "code",
   "execution_count": 11,
   "metadata": {},
   "outputs": [
    {
     "name": "stdout",
     "output_type": "stream",
     "text": [
      "data_dir = /scratch/project_462000699/data\n"
     ]
    }
   ],
   "source": [
    "slurm_project = os.getenv('SLURM_JOB_ACCOUNT')\n",
    "data_dir = os.path.join('/scratch', slurm_project, 'data') if slurm_project else './data'\n",
    "print('data_dir =', data_dir)\n",
    "\n",
    "train_dataset = load_dataset(\"imdb\", split=\"train\", trust_remote_code=False, cache_dir=data_dir)\n",
    "test_dataset = load_dataset(\"imdb\", split=\"test\", trust_remote_code=False, cache_dir=data_dir)"
   ]
  },
  {
   "cell_type": "markdown",
   "metadata": {},
   "source": [
    "The data items can be accessed by index, and each item is a dictionary with a 'text' and 'label' field."
   ]
  },
  {
   "cell_type": "code",
   "execution_count": 12,
   "metadata": {},
   "outputs": [
    {
     "data": {
      "text/plain": [
       "{'text': \"If only to avoid making this type of film in the future. This film is interesting as an experiment but tells no cogent story.<br /><br />One might feel virtuous for sitting thru it because it touches on so many IMPORTANT issues but it does so without any discernable motive. The viewer comes away with no new perspectives (unless one comes up with one while one's mind wanders, as it will invariably do during this pointless film).<br /><br />One might better spend one's time staring out a window at a tree growing.<br /><br />\",\n",
       " 'label': 0}"
      ]
     },
     "execution_count": 12,
     "metadata": {},
     "output_type": "execute_result"
    }
   ],
   "source": [
    "train_dataset[2]"
   ]
  },
  {
   "cell_type": "markdown",
   "metadata": {},
   "source": [
    "Let's do a quick count of the labels in the dataset..."
   ]
  },
  {
   "cell_type": "code",
   "execution_count": 13,
   "metadata": {},
   "outputs": [
    {
     "name": "stdout",
     "output_type": "stream",
     "text": [
      "train\n",
      "label: 0, count: 12500\n",
      "label: 1, count: 12500\n",
      "test\n",
      "label: 0, count: 12500\n",
      "label: 1, count: 12500\n"
     ]
    }
   ],
   "source": [
    "def count_labels(dataset):\n",
    "    counts={}\n",
    "    i=0\n",
    "    for item in dataset:\n",
    "        label = item['label']\n",
    "        if label not in counts:\n",
    "            counts[label] = 1\n",
    "        else:\n",
    "            counts[label] += 1\n",
    "    for key, value in counts.items():\n",
    "        print(f\"label: {key}, count: {value}\")\n",
    "\n",
    "print('train')\n",
    "count_labels(train_dataset)\n",
    "\n",
    "print('test')\n",
    "count_labels(test_dataset)"
   ]
  },
  {
   "cell_type": "markdown",
   "metadata": {},
   "source": [
    "We see that we have two labels: `0` and `1`, each with 12500 items per dataset split. Label `0` indicates a negative review, and label `1` a positive one."
   ]
  },
  {
   "cell_type": "markdown",
   "metadata": {},
   "source": [
    "### Pre-processing\n",
    "\n",
    "Before we start training, we need to process the data into a more suitable format. The text now consists of text strings of variable length, but a neural network typically needs to have fixed-length vectors containing numbers.\n",
    "\n",
    "To achieve this we will use the `WordLevel` tokenizer from Hugging Face's [Tokenizers library](https://huggingface.co/docs/tokenizers/index). We will tell it to create a vocabulary of the 10,000 most frequent words, and use the special word `[UNK]` for any other words. These 10,001 words will all be mapped to a specific integer index."
   ]
  },
  {
   "cell_type": "code",
   "execution_count": 14,
   "metadata": {},
   "outputs": [],
   "source": [
    "# number of most-frequent words to use\n",
    "nb_words = 10000\n",
    "\n",
    "tokenizer = Tokenizer(models.WordLevel(unk_token='[UNK]'))\n",
    "tokenizer.pre_tokenizer = pre_tokenizers.Whitespace()\n",
    "tokenizer.normalizer = normalizers.Sequence([normalizers.NFD(),\n",
    "                                             normalizers.Lowercase(),\n",
    "                                             normalizers.StripAccents()])\n",
    "\n",
    "trainer = trainers.WordLevelTrainer(vocab_size=nb_words, min_frequency=1, special_tokens=['[UNK]'])\n",
    "tokenizer.train_from_iterator(train_dataset['text'], trainer)"
   ]
  },
  {
   "cell_type": "markdown",
   "metadata": {},
   "source": [
    "Let's try our tokenizer out with an example sentence. We deliberately also add a nonsense word to see if it correctly maps that to `[UNK]` (which has index 0)."
   ]
  },
  {
   "cell_type": "code",
   "execution_count": 15,
   "metadata": {},
   "outputs": [
    {
     "data": {
      "text/plain": [
       "[4793, 2, 14, 9, 5, 2246, 4252, 0]"
      ]
     },
     "execution_count": 15,
     "metadata": {},
     "output_type": "execute_result"
    }
   ],
   "source": [
    "tokenizer.encode(\"hello, this is a test sentence foobazz\").ids"
   ]
  },
  {
   "cell_type": "markdown",
   "metadata": {},
   "source": [
    "Finally we create a function that ensures all our vector have the same length of 80 by truncating too long sentences and padding too short ones with 0's."
   ]
  },
  {
   "cell_type": "code",
   "execution_count": 16,
   "metadata": {},
   "outputs": [],
   "source": [
    "vec_length = 80\n",
    "\n",
    "def text_transform(text):\n",
    "    x = tokenizer.encode(text)\n",
    "    x.truncate(vec_length)\n",
    "    x.pad(vec_length)\n",
    "    return x.ids\n"
   ]
  },
  {
   "cell_type": "markdown",
   "metadata": {},
   "source": [
    "We can try the text transformation on a test sentence:"
   ]
  },
  {
   "cell_type": "code",
   "execution_count": 17,
   "metadata": {},
   "outputs": [
    {
     "name": "stdout",
     "output_type": "stream",
     "text": [
      "[4793, 2, 14, 9, 5, 2246, 4252, 0, 0, 0, 0, 0, 0, 0, 0, 0, 0, 0, 0, 0, 0, 0, 0, 0, 0, 0, 0, 0, 0, 0, 0, 0, 0, 0, 0, 0, 0, 0, 0, 0, 0, 0, 0, 0, 0, 0, 0, 0, 0, 0, 0, 0, 0, 0, 0, 0, 0, 0, 0, 0, 0, 0, 0, 0, 0, 0, 0, 0, 0, 0, 0, 0, 0, 0, 0, 0, 0, 0, 0, 0]\n"
     ]
    }
   ],
   "source": [
    "print(text_transform(\"hello, this is a test sentence\"))"
   ]
  },
  {
   "cell_type": "markdown",
   "metadata": {},
   "source": [
    "Next, let's apply this by transforming our datasets to represent our texts as 80-length vectors and labels as floating point values."
   ]
  },
  {
   "cell_type": "code",
   "execution_count": 18,
   "metadata": {},
   "outputs": [],
   "source": [
    "# Apply the list of transforms to the text\n",
    "# We also switch around so we have the text first and labels second\n",
    "def apply_transform(x):\n",
    "    return {\n",
    "        'input_ids': text_transform(x['text']),\n",
    "        'label_id': float(x['label'])\n",
    "        }\n",
    "\n",
    "train_dataset_tr = train_dataset.map(apply_transform, remove_columns=['text', 'label']).with_format('torch')\n",
    "test_dataset_tr = test_dataset.map(apply_transform, remove_columns=['text', 'label']).with_format('torch')"
   ]
  },
  {
   "cell_type": "markdown",
   "metadata": {},
   "source": [
    "Let's take a look at one example:"
   ]
  },
  {
   "cell_type": "code",
   "execution_count": 19,
   "metadata": {},
   "outputs": [
    {
     "data": {
      "text/plain": [
       "{'input_ids': tensor([  56,   75,    7,  824,  250,   14,  576,    6,   27,   12,    1,  724,\n",
       "            3,   14,   27,    9,  240,   22,   44, 2920,   26,  742,   68,    0,\n",
       "           74,   28,   10,   18,   10,   20,   39,  255,  251,    0,   23, 1305,\n",
       "         4543,   11,   99,   11, 2500,   31,   46,  125,  698, 1381,   26,   11,\n",
       "          143,   46,  227,  114,    0, 6400,    3,    1,  527,  287,  267,   24,\n",
       "           68,  183, 8552,   32,  923,   39,  287,   66,   24,   39,  155,   39,\n",
       "            8,   16,  354, 6121,    2,   22,   11,   91]),\n",
       " 'label_id': tensor(0.)}"
      ]
     },
     "execution_count": 19,
     "metadata": {},
     "output_type": "execute_result"
    }
   ],
   "source": [
    "train_dataset_tr[2]"
   ]
  },
  {
   "cell_type": "markdown",
   "metadata": {},
   "source": [
    "Next we'll create the data loaders with a given batch size."
   ]
  },
  {
   "cell_type": "code",
   "execution_count": 20,
   "metadata": {},
   "outputs": [],
   "source": [
    "batch_size = 128\n",
    "\n",
    "train_loader = DataLoader(dataset=train_dataset_tr, batch_size=batch_size, shuffle=True,\n",
    "                          drop_last=True)\n",
    "test_loader = DataLoader(dataset=test_dataset_tr, batch_size=batch_size, shuffle=False,\n",
    "                         drop_last=True)"
   ]
  },
  {
   "cell_type": "markdown",
   "metadata": {},
   "source": [
    "## RNN model\n",
    "\n",
    "Let's create an RNN model that contains an LSTM layer. The first layer in the network is an *embedding* layer that converts integer indices to dense vectors of length `embedding_dims`. The output layer contains a single neuron and *sigmoid* non-linearity to match the binary groundtruth (0=negative, 1=positive review). \n",
    "\n",
    "All the [neural network building blocks defined in PyTorch can be found in the torch.nn documentation](https://pytorch.org/docs/stable/nn.html).\n",
    "\n",
    "The output of [LSTM in PyTorch](https://pytorch.org/docs/stable/generated/torch.nn.LSTM.html#torch.nn.LSTM) is a 3D tensor of the shape batch_size x sequence_length x lstm_units, that is we get the output after each item in the sequence. Here we only want to have the output after the last item (after the whole sentence has been processed). This means we have to do things a bit more manually and cannot use the simple `nn.Sequential` as in previous exercises."
   ]
  },
  {
   "cell_type": "code",
   "execution_count": 21,
   "metadata": {},
   "outputs": [
    {
     "name": "stdout",
     "output_type": "stream",
     "text": [
      "SimpleRNN(\n",
      "  (emb): Embedding(10000, 50)\n",
      "  (dropout): Dropout(p=0.2, inplace=False)\n",
      "  (lstm): LSTM(50, 32, batch_first=True)\n",
      "  (linear): Linear(in_features=32, out_features=1, bias=True)\n",
      "  (sigmoid): Sigmoid()\n",
      ")\n"
     ]
    }
   ],
   "source": [
    "# model parameters:\n",
    "embedding_dims = 50\n",
    "lstm_units = 32\n",
    "\n",
    "class SimpleRNN(nn.Module):\n",
    "    def __init__(self):\n",
    "        super().__init__()\n",
    "        self.emb = nn.Embedding(nb_words, embedding_dims)\n",
    "        self.dropout = nn.Dropout(0.2)\n",
    "        self.lstm = nn.LSTM(embedding_dims, lstm_units, batch_first=True)\n",
    "        self.linear = nn.Linear(lstm_units, 1)\n",
    "        self.sigmoid = nn.Sigmoid()\n",
    "\n",
    "    def forward(self, x):\n",
    "        x = self.emb(x)\n",
    "        x = self.dropout(x)\n",
    "        x, (hn, cn) = self.lstm(x)    # LSTM also returns the values of the internal h_n and c_n parameters\n",
    "        x = self.linear(x[:, -1, :])  # we pick only the last output after having processed the whole sequence\n",
    "        return self.sigmoid(x.view(-1))\n",
    "\n",
    "model = SimpleRNN().to(device)\n",
    "print(model)"
   ]
  },
  {
   "cell_type": "markdown",
   "metadata": {},
   "source": [
    "## Learning\n",
    "\n",
    "Now let's train the RNN model. Note that LSTMs are rather slow to train."
   ]
  },
  {
   "cell_type": "code",
   "execution_count": 22,
   "metadata": {},
   "outputs": [],
   "source": [
    "def correct(output, target):\n",
    "    sentiment_pred = output.round().int()          # set to 0 for <0.5 and 1 for >0.5\n",
    "    correct_ones = sentiment_pred == target.int()  # 1 for correct, 0 for incorrect\n",
    "    return correct_ones.sum().item()               # count number of correct ones\n"
   ]
  },
  {
   "cell_type": "code",
   "execution_count": 23,
   "metadata": {},
   "outputs": [],
   "source": [
    "def train(data_loader, model, criterion, optimizer):\n",
    "    model.train()\n",
    "\n",
    "    num_batches = 0\n",
    "    num_items = 0\n",
    "\n",
    "    total_loss = 0\n",
    "    total_correct = 0\n",
    "    for item in tqdm(data_loader):\n",
    "        # Copy data and targets to GPU\n",
    "        data = item['input_ids'].to(device)\n",
    "        target = item['label_id'].to(device)\n",
    "        \n",
    "        # Do a forward pass\n",
    "        output = model(data)\n",
    "      \n",
    "        # Calculate the loss\n",
    "        loss = criterion(output, target)\n",
    "        total_loss += loss\n",
    "        num_batches += 1\n",
    "        \n",
    "        # Count number of correct digits\n",
    "        total_correct += correct(output, target)\n",
    "        num_items += len(target)\n",
    "        \n",
    "        # Backpropagation\n",
    "        loss.backward()\n",
    "        optimizer.step()\n",
    "        optimizer.zero_grad()\n",
    "\n",
    "    train_loss = total_loss/num_batches\n",
    "    accuracy = total_correct/num_items\n",
    "    print(f\"Average loss: {train_loss:7f}, accuracy: {accuracy:.2%}\")\n",
    "    return train_loss.item(), accuracy\n"
   ]
  },
  {
   "cell_type": "markdown",
   "metadata": {},
   "source": [
    "We use the [binary cross-entropy loss](https://pytorch.org/docs/stable/generated/torch.nn.BCELoss.html) and [RMSprop optimizer](https://pytorch.org/docs/stable/generated/torch.optim.RMSprop.html#torch.optim.RMSprop)."
   ]
  },
  {
   "cell_type": "code",
   "execution_count": 24,
   "metadata": {},
   "outputs": [],
   "source": [
    "criterion = nn.BCELoss()\n",
    "optimizer = torch.optim.RMSprop(model.parameters())"
   ]
  },
  {
   "cell_type": "code",
   "execution_count": 25,
   "metadata": {},
   "outputs": [
    {
     "name": "stdout",
     "output_type": "stream",
     "text": [
      "Training epoch: 1\n"
     ]
    },
    {
     "name": "stderr",
     "output_type": "stream",
     "text": [
      "100%|██████████| 195/195 [00:14<00:00, 13.90it/s] \n"
     ]
    },
    {
     "name": "stdout",
     "output_type": "stream",
     "text": [
      "Average loss: 0.689759, accuracy: 53.72%\n",
      "Training epoch: 2\n"
     ]
    },
    {
     "name": "stderr",
     "output_type": "stream",
     "text": [
      "100%|██████████| 195/195 [00:01<00:00, 131.55it/s]\n"
     ]
    },
    {
     "name": "stdout",
     "output_type": "stream",
     "text": [
      "Average loss: 0.633742, accuracy: 64.59%\n",
      "Training epoch: 3\n"
     ]
    },
    {
     "name": "stderr",
     "output_type": "stream",
     "text": [
      "100%|██████████| 195/195 [00:01<00:00, 131.29it/s]\n"
     ]
    },
    {
     "name": "stdout",
     "output_type": "stream",
     "text": [
      "Average loss: 0.540641, accuracy: 73.48%\n",
      "Training epoch: 4\n"
     ]
    },
    {
     "name": "stderr",
     "output_type": "stream",
     "text": [
      "100%|██████████| 195/195 [00:01<00:00, 131.19it/s]\n"
     ]
    },
    {
     "name": "stdout",
     "output_type": "stream",
     "text": [
      "Average loss: 0.476402, accuracy: 78.49%\n",
      "Training epoch: 5\n"
     ]
    },
    {
     "name": "stderr",
     "output_type": "stream",
     "text": [
      "100%|██████████| 195/195 [00:01<00:00, 131.46it/s]\n"
     ]
    },
    {
     "name": "stdout",
     "output_type": "stream",
     "text": [
      "Average loss: 0.432425, accuracy: 80.74%\n",
      "Training epoch: 6\n"
     ]
    },
    {
     "name": "stderr",
     "output_type": "stream",
     "text": [
      "100%|██████████| 195/195 [00:01<00:00, 131.38it/s]\n"
     ]
    },
    {
     "name": "stdout",
     "output_type": "stream",
     "text": [
      "Average loss: 0.390530, accuracy: 83.06%\n",
      "Training epoch: 7\n"
     ]
    },
    {
     "name": "stderr",
     "output_type": "stream",
     "text": [
      "100%|██████████| 195/195 [00:01<00:00, 131.27it/s]\n"
     ]
    },
    {
     "name": "stdout",
     "output_type": "stream",
     "text": [
      "Average loss: 0.362722, accuracy: 84.20%\n",
      "Training epoch: 8\n"
     ]
    },
    {
     "name": "stderr",
     "output_type": "stream",
     "text": [
      "100%|██████████| 195/195 [00:01<00:00, 130.84it/s]\n"
     ]
    },
    {
     "name": "stdout",
     "output_type": "stream",
     "text": [
      "Average loss: 0.332709, accuracy: 85.80%\n",
      "Training epoch: 9\n"
     ]
    },
    {
     "name": "stderr",
     "output_type": "stream",
     "text": [
      "100%|██████████| 195/195 [00:01<00:00, 130.50it/s]\n"
     ]
    },
    {
     "name": "stdout",
     "output_type": "stream",
     "text": [
      "Average loss: 0.312031, accuracy: 86.92%\n",
      "Training epoch: 10\n"
     ]
    },
    {
     "name": "stderr",
     "output_type": "stream",
     "text": [
      "100%|██████████| 195/195 [00:01<00:00, 130.22it/s]"
     ]
    },
    {
     "name": "stdout",
     "output_type": "stream",
     "text": [
      "Average loss: 0.294187, accuracy: 87.63%\n",
      "CPU times: user 24.5 s, sys: 2.13 s, total: 26.7 s\n",
      "Wall time: 27.4 s\n"
     ]
    },
    {
     "name": "stderr",
     "output_type": "stream",
     "text": [
      "\n"
     ]
    }
   ],
   "source": [
    "%%time\n",
    "\n",
    "losses = []\n",
    "accuracies = []\n",
    "epochs = 10\n",
    "for epoch in range(epochs):\n",
    "    print(f\"Training epoch: {epoch+1}\")\n",
    "    loss, acc = train(train_loader, model, criterion, optimizer)\n",
    "    losses.append(loss)\n",
    "    accuracies.append(acc)"
   ]
  },
  {
   "cell_type": "markdown",
   "metadata": {},
   "source": [
    "Let's plot how the loss and accuracy change over the epochs"
   ]
  },
  {
   "cell_type": "code",
   "execution_count": 26,
   "metadata": {},
   "outputs": [
    {
     "data": {
      "image/png": "[encoded data removed]",
      "text/plain": [
       "<Figure size 640x480 with 2 Axes>"
      ]
     },
     "metadata": {},
     "output_type": "display_data"
    }
   ],
   "source": [
    "plt.subplot(2,1,1)\n",
    "plt.plot(losses)\n",
    "plt.ylabel(\"Loss\")\n",
    "plt.subplot(2,1,2)\n",
    "plt.plot(accuracies)\n",
    "plt.ylabel(\"Accuracy\");"
   ]
  },
  {
   "cell_type": "markdown",
   "metadata": {},
   "source": [
    "### Inference\n",
    "\n",
    "Here we have the same `test` function as before."
   ]
  },
  {
   "cell_type": "code",
   "execution_count": 27,
   "metadata": {},
   "outputs": [],
   "source": [
    "def test(test_loader, model, criterion):\n",
    "    model.eval()\n",
    "\n",
    "    num_batches = 0\n",
    "    num_items = 0\n",
    "\n",
    "    test_loss = 0\n",
    "    total_correct = 0\n",
    "\n",
    "    with torch.no_grad():\n",
    "        for item in test_loader:\n",
    "            # Copy data and targets to GPU\n",
    "            data = item['input_ids'].to(device)\n",
    "            target = item['label_id'].to(device)\n",
    "\n",
    "            # Do a forward pass\n",
    "            output = model(data)\n",
    "        \n",
    "            # Calculate the loss\n",
    "            loss = criterion(output, target)\n",
    "            test_loss += loss.item()\n",
    "            num_batches += 1\n",
    "        \n",
    "            # Count number of correct digits\n",
    "            total_correct += correct(output, target)\n",
    "            num_items += len(target)\n",
    "\n",
    "    test_loss = test_loss/num_batches\n",
    "    accuracy = total_correct/num_items\n",
    "\n",
    "    print(f\"Testset accuracy: {100*accuracy:>0.1f}%, average loss: {test_loss:>7f}\")\n",
    "    return test_loss, accuracy"
   ]
  },
  {
   "cell_type": "code",
   "execution_count": 28,
   "metadata": {},
   "outputs": [
    {
     "name": "stdout",
     "output_type": "stream",
     "text": [
      "Testset accuracy: 77.4%, average loss: 0.566587\n"
     ]
    }
   ],
   "source": [
    "test_loss, test_acc = test(test_loader, model, criterion)"
   ]
  },
  {
   "cell_type": "markdown",
   "metadata": {},
   "source": [
    "Let's see how the loss and accuracy differ in the training and test sets:"
   ]
  },
  {
   "cell_type": "code",
   "execution_count": 29,
   "metadata": {},
   "outputs": [
    {
     "data": {
      "image/png": "[encoded data removed]",
      "text/plain": [
       "<Figure size 640x480 with 2 Axes>"
      ]
     },
     "metadata": {},
     "output_type": "display_data"
    }
   ],
   "source": [
    "plt.subplot(2,1,1)\n",
    "plt.plot(losses, label='train')\n",
    "plt.plot([0,epochs-1], [test_loss, test_loss], label='test')\n",
    "plt.ylabel(\"Loss\")\n",
    "plt.legend()\n",
    "\n",
    "plt.subplot(2,1,2)\n",
    "plt.plot(accuracies, label='train')\n",
    "plt.plot([0,epochs-1], [test_acc, test_acc], label='test')\n",
    "plt.ylabel(\"Accuracy\")\n",
    "plt.legend();"
   ]
  },
  {
   "cell_type": "markdown",
   "metadata": {},
   "source": [
    "We can also use the learned model to predict sentiments for new reviews:"
   ]
  },
  {
   "cell_type": "code",
   "execution_count": 30,
   "metadata": {},
   "outputs": [
    {
     "name": "stdout",
     "output_type": "stream",
     "text": [
      "tensor([[  14,   25,   21, 1226,    4,   79,    1,  133,  224,  156,   13,   37,\n",
      "          141,  124,    0,    0,    0,    0,    0,    0,    0,    0,    0,    0,\n",
      "            0,    0,    0,    0,    0,    0,    0,    0,    0,    0,    0,    0,\n",
      "            0,    0,    0,    0,    0,    0,    0,    0,    0,    0,    0,    0,\n",
      "            0,    0,    0,    0,    0,    0,    0,    0,    0,    0,    0,    0,\n",
      "            0,    0,    0,    0,    0,    0,    0,    0,    0,    0,    0,    0,\n",
      "            0,    0,    0,    0,    0,    0,    0,    0]], device='cuda:0')\n",
      "Predicted sentiment: POSITIVE (0.9091)\n"
     ]
    }
   ],
   "source": [
    "#myreviewtext = 'this movie was the worst i have ever seen and the actors were horrible'\n",
    "myreviewtext = 'this movie was awesome and had the best action scenes I have ever seen'\n",
    "\n",
    "input = torch.tensor(text_transform(myreviewtext)).view(1, -1).to(device)\n",
    "print(input)\n",
    "p = model(input).item()\n",
    "sentiment = \"POSITIVE\" if p > 0.5 else \"NEGATIVE\"\n",
    "print(f'Predicted sentiment: {sentiment} ({p:.4f})')"
   ]
  },
  {
   "cell_type": "markdown",
   "metadata": {},
   "source": [
    "## Task 1: Two LSTM layers\n",
    "\n",
    "Create a model with two LSTM layers (hint: there is a `num_layers` option!). Optionally, you can also use bidirectional layers (set `bidirectional=True` in LSTM). See the [LSTM documentation in PyTorch](https://pytorch.org/docs/stable/generated/torch.nn.LSTM.html#torch.nn.LSTM).\n",
    "\n",
    "You can consult the [PyTorch documentation](https://pytorch.org/docs/stable/index.html), in particular all the [neural network building blocks can be found in the `torch.nn` documentation](https://pytorch.org/docs/stable/nn.html).\n",
    "\n",
    "The code below is missing the model definition. You can copy any suitable layers from the example above."
   ]
  },
  {
   "cell_type": "code",
   "execution_count": 31,
   "metadata": {},
   "outputs": [],
   "source": [
    "class TwoLayeredRNN(nn.Module):\n",
    "    def __init__(self):\n",
    "        super().__init__()\n",
    "        self.emb = nn.Embedding(nb_words, embedding_dims)\n",
    "        # Dropout for regularization\n",
    "        self.dropout = nn.Dropout(0.2)\n",
    "        \n",
    "        # Two-layer LSTM with optional bidirectionality\n",
    "        self.lstm = nn.LSTM(\n",
    "            embedding_dims, \n",
    "            lstm_units, \n",
    "            num_layers=2,          # Specifies two LSTM layers\n",
    "            batch_first=True,       # Keeps batch as the first dimension\n",
    "            bidirectional=True      # Set to True for bidirectional LSTM\n",
    "        )\n",
    "        \n",
    "        # Fully connected layer to map LSTM output to the final output\n",
    "        self.linear = nn.Linear(lstm_units * 2 if self.lstm.bidirectional else lstm_units, 1)\n",
    "        \n",
    "        # Sigmoid activation to get probability-like output for binary classification\n",
    "        self.sigmoid = nn.Sigmoid()\n",
    "\n",
    "    def forward(self, x):\n",
    "        x = self.emb(x)\n",
    "        x = self.dropout(x)\n",
    "        \n",
    "        # Pass through the LSTM layer (output, (hn, cn)) is returned\n",
    "        x, (hn, cn) = self.lstm(x)\n",
    "        \n",
    "        # Take the output from the last LSTM cell in the sequence\n",
    "        x = self.linear(x[:, -1, :])  # Use only the last time step's output\n",
    "        \n",
    "        # Pass through sigmoid to get a probability score\n",
    "        return self.sigmoid(x.view(-1))\n"
   ]
  },
  {
   "cell_type": "markdown",
   "metadata": {},
   "source": [
    "If you want to see an example answer, change the type of the cell below to \"Code\" in the menu bar above and then execute the cell. Execute the cell again to run the example code.\n",
    "\n",
    "**Note:** in Google Colab you can [click here](https://github.com/csc-training/intro-to-dl/blob/master/day1/solutions/pytorch-imdb-rnn-example-answer.py) and copy the answer manually"
   ]
  },
  {
   "cell_type": "raw",
   "metadata": {},
   "source": [
    "%load solutions/pytorch-imdb-rnn-example-answer.py"
   ]
  },
  {
   "cell_type": "code",
   "execution_count": 32,
   "metadata": {},
   "outputs": [
    {
     "name": "stdout",
     "output_type": "stream",
     "text": [
      "TwoLayeredRNN(\n",
      "  (emb): Embedding(10000, 50)\n",
      "  (dropout): Dropout(p=0.2, inplace=False)\n",
      "  (lstm): LSTM(50, 32, num_layers=2, batch_first=True, bidirectional=True)\n",
      "  (linear): Linear(in_features=64, out_features=1, bias=True)\n",
      "  (sigmoid): Sigmoid()\n",
      ")\n"
     ]
    }
   ],
   "source": [
    "ex1_model = TwoLayeredRNN()\n",
    "print(ex1_model)\n",
    "\n",
    "assert len(list(ex1_model.parameters())) > 0, \"ERROR: You need to write the missing model definition above!\"\n",
    "\n",
    "\n",
    "ex1_model = ex1_model.to(device)"
   ]
  },
  {
   "cell_type": "code",
   "execution_count": 33,
   "metadata": {},
   "outputs": [],
   "source": [
    "ex1_criterion = nn.BCELoss()\n",
    "ex1_optimizer = torch.optim.RMSprop(ex1_model.parameters())"
   ]
  },
  {
   "cell_type": "code",
   "execution_count": 34,
   "metadata": {},
   "outputs": [
    {
     "name": "stdout",
     "output_type": "stream",
     "text": [
      "Epoch: 1 ...\n"
     ]
    },
    {
     "name": "stderr",
     "output_type": "stream",
     "text": [
      "100%|██████████| 195/195 [00:05<00:00, 38.01it/s]\n"
     ]
    },
    {
     "name": "stdout",
     "output_type": "stream",
     "text": [
      "Average loss: 0.689111, accuracy: 55.18%\n",
      "Epoch: 2 ...\n"
     ]
    },
    {
     "name": "stderr",
     "output_type": "stream",
     "text": [
      "100%|██████████| 195/195 [00:03<00:00, 62.51it/s]\n"
     ]
    },
    {
     "name": "stdout",
     "output_type": "stream",
     "text": [
      "Average loss: 0.580866, accuracy: 69.95%\n",
      "Epoch: 3 ...\n"
     ]
    },
    {
     "name": "stderr",
     "output_type": "stream",
     "text": [
      "100%|██████████| 195/195 [00:03<00:00, 62.37it/s]\n"
     ]
    },
    {
     "name": "stdout",
     "output_type": "stream",
     "text": [
      "Average loss: 0.456802, accuracy: 79.06%\n",
      "Epoch: 4 ...\n"
     ]
    },
    {
     "name": "stderr",
     "output_type": "stream",
     "text": [
      "100%|██████████| 195/195 [00:03<00:00, 62.31it/s]\n"
     ]
    },
    {
     "name": "stdout",
     "output_type": "stream",
     "text": [
      "Average loss: 0.385608, accuracy: 83.04%\n",
      "Epoch: 5 ...\n"
     ]
    },
    {
     "name": "stderr",
     "output_type": "stream",
     "text": [
      "100%|██████████| 195/195 [00:03<00:00, 62.14it/s]\n"
     ]
    },
    {
     "name": "stdout",
     "output_type": "stream",
     "text": [
      "Average loss: 0.338343, accuracy: 85.58%\n",
      "Epoch: 6 ...\n"
     ]
    },
    {
     "name": "stderr",
     "output_type": "stream",
     "text": [
      "100%|██████████| 195/195 [00:03<00:00, 61.95it/s]\n"
     ]
    },
    {
     "name": "stdout",
     "output_type": "stream",
     "text": [
      "Average loss: 0.290068, accuracy: 87.98%\n",
      "Epoch: 7 ...\n"
     ]
    },
    {
     "name": "stderr",
     "output_type": "stream",
     "text": [
      "100%|██████████| 195/195 [00:03<00:00, 62.09it/s]\n"
     ]
    },
    {
     "name": "stdout",
     "output_type": "stream",
     "text": [
      "Average loss: 0.260139, accuracy: 89.61%\n",
      "Epoch: 8 ...\n"
     ]
    },
    {
     "name": "stderr",
     "output_type": "stream",
     "text": [
      "100%|██████████| 195/195 [00:03<00:00, 62.11it/s]\n"
     ]
    },
    {
     "name": "stdout",
     "output_type": "stream",
     "text": [
      "Average loss: 0.230565, accuracy: 90.81%\n",
      "Epoch: 9 ...\n"
     ]
    },
    {
     "name": "stderr",
     "output_type": "stream",
     "text": [
      "100%|██████████| 195/195 [00:03<00:00, 62.06it/s]\n"
     ]
    },
    {
     "name": "stdout",
     "output_type": "stream",
     "text": [
      "Average loss: 0.210434, accuracy: 91.60%\n",
      "Epoch: 10 ...\n"
     ]
    },
    {
     "name": "stderr",
     "output_type": "stream",
     "text": [
      "100%|██████████| 195/195 [00:03<00:00, 61.98it/s]"
     ]
    },
    {
     "name": "stdout",
     "output_type": "stream",
     "text": [
      "Average loss: 0.189271, accuracy: 92.68%\n",
      "CPU times: user 33.2 s, sys: 251 ms, total: 33.5 s\n",
      "Wall time: 33.4 s\n"
     ]
    },
    {
     "name": "stderr",
     "output_type": "stream",
     "text": [
      "\n"
     ]
    }
   ],
   "source": [
    "%%time\n",
    "\n",
    "losses = []\n",
    "accuracies = []\n",
    "epochs = 10\n",
    "for epoch in range(epochs):\n",
    "    print(f\"Epoch: {epoch+1} ...\")\n",
    "    loss, acc = train(train_loader, ex1_model, ex1_criterion, ex1_optimizer)\n",
    "    losses.append(loss)\n",
    "    accuracies.append(acc)"
   ]
  },
  {
   "cell_type": "code",
   "execution_count": 35,
   "metadata": {},
   "outputs": [
    {
     "name": "stdout",
     "output_type": "stream",
     "text": [
      "Testset accuracy: 78.1%, average loss: 0.588179\n"
     ]
    }
   ],
   "source": [
    "ex1_test_loss, ex1_test_acc = test(test_loader, ex1_model, ex1_criterion)"
   ]
  },
  {
   "cell_type": "code",
   "execution_count": 36,
   "metadata": {},
   "outputs": [
    {
     "data": {
      "image/png": "[encoded data removed]",
      "text/plain": [
       "<Figure size 640x480 with 2 Axes>"
      ]
     },
     "metadata": {},
     "output_type": "display_data"
    }
   ],
   "source": [
    "plt.subplot(2,1,1)\n",
    "plt.plot(losses, label='train')\n",
    "plt.plot([0,epochs-1], [ex1_test_loss, ex1_test_loss], label='test')\n",
    "plt.ylabel(\"Loss\")\n",
    "plt.legend()\n",
    "\n",
    "plt.subplot(2,1,2)\n",
    "plt.plot(accuracies, label='train')\n",
    "plt.plot([0,epochs-1], [ex1_test_acc, ex1_test_acc], label='test')\n",
    "plt.ylabel(\"Accuracy\")\n",
    "plt.legend();"
   ]
  },
  {
   "cell_type": "markdown",
   "metadata": {},
   "source": [
    "## Task 2: Model tuning\n",
    "\n",
    "Modify the model further.  Try to improve the classification accuracy on the test set, or experiment with the effects of different parameters.\n",
    "\n",
    "To combat overfitting, you can try for example to add dropout. For [LSTMs](https://pytorch.org/docs/stable/generated/torch.nn.LSTM.html#torch.nn.LSTM), dropout between the LSTM layers can be set with the `dropout` parameter:\n",
    "\n",
    "    self.lstm = nn.LSTM(embedding_dims, lstm_units, num_layers=2,\n",
    "                        batch_first=True, dropout=0.2)\n"
   ]
  },
  {
   "cell_type": "markdown",
   "metadata": {},
   "source": [
    "If you wish to change the batch size, you need to re-define the data loaders."
   ]
  },
  {
   "cell_type": "code",
   "execution_count": 53,
   "metadata": {},
   "outputs": [],
   "source": [
    "# GRU (Gated Recurrent Unit) networks are a variant of LSTMs that are simpler and sometimes perform better \n",
    "# on certain tasks. They have fewer gates, which can make them faster to train and potentially better at generalizing in some cases.\n",
    "class GRURNN(nn.Module):\n",
    "    def __init__(self):\n",
    "        super().__init__()\n",
    "        self.emb = nn.Embedding(nb_words, embedding_dims)\n",
    "        \n",
    "        # Dropout for embedding layer\n",
    "        self.input_dropout = nn.Dropout(0.3)\n",
    "        \n",
    "        # Two-layer GRU with dropout\n",
    "        self.gru = nn.GRU(\n",
    "            embedding_dims, \n",
    "            lstm_units, \n",
    "            num_layers=2, \n",
    "            batch_first=True, \n",
    "            dropout=0.3,       # Dropout between GRU layers\n",
    "            bidirectional=True\n",
    "        )\n",
    "        \n",
    "        # Fully connected layer and output dropout\n",
    "        self.linear = nn.Linear(lstm_units * 2, 1)\n",
    "        self.output_dropout = nn.Dropout(0.5)\n",
    "        \n",
    "        # Sigmoid activation\n",
    "        self.sigmoid = nn.Sigmoid()\n",
    "\n",
    "    def forward(self, x):\n",
    "        x = self.emb(x)\n",
    "        x = self.input_dropout(x)\n",
    "        x, hn = self.gru(x)   # Only `hn` is used in GRUs\n",
    "        x = self.output_dropout(x[:, -1, :])\n",
    "        x = self.linear(x)\n",
    "        return self.sigmoid(x.view(-1))"
   ]
  },
  {
   "cell_type": "code",
   "execution_count": 54,
   "metadata": {},
   "outputs": [
    {
     "name": "stdout",
     "output_type": "stream",
     "text": [
      "GRURNN(\n",
      "  (emb): Embedding(10000, 50)\n",
      "  (input_dropout): Dropout(p=0.3, inplace=False)\n",
      "  (gru): GRU(50, 32, num_layers=2, batch_first=True, dropout=0.3, bidirectional=True)\n",
      "  (linear): Linear(in_features=64, out_features=1, bias=True)\n",
      "  (output_dropout): Dropout(p=0.5, inplace=False)\n",
      "  (sigmoid): Sigmoid()\n",
      ")\n"
     ]
    }
   ],
   "source": [
    "# Instantiate the model\n",
    "ext2_model = GRURNN().to(device)\n",
    "\n",
    "print(ext2_model)\n",
    "# Optimizer and loss function\n",
    "criterion_ext2 = nn.BCELoss()\n",
    "optimizer_ext2 = optim.Adam(model.parameters(), lr=0.001, weight_decay=1e-5)\n",
    "\n",
    "# Gradient clipping function\n",
    "def clip_gradients(model, max_norm=2.0):\n",
    "    torch.nn.utils.clip_grad_norm_(model.parameters(), max_norm)"
   ]
  },
  {
   "cell_type": "code",
   "execution_count": 62,
   "metadata": {},
   "outputs": [
    {
     "name": "stdout",
     "output_type": "stream",
     "text": [
      "Training epoch 1\n",
      "Epoch 1 finished with loss: 0.1291, accuracy: 95.2324%\n",
      "Training epoch 2\n",
      "Epoch 2 finished with loss: 0.1256, accuracy: 95.3886%\n",
      "Training epoch 3\n",
      "Epoch 3 finished with loss: 0.1166, accuracy: 95.6290%\n",
      "Training epoch 4\n",
      "Epoch 4 finished with loss: 0.1073, accuracy: 96.1458%\n",
      "Training epoch 5\n",
      "Epoch 5 finished with loss: 0.1002, accuracy: 96.2700%\n",
      "Training epoch 6\n",
      "Epoch 6 finished with loss: 0.0945, accuracy: 96.5465%\n",
      "Training epoch 7\n",
      "Epoch 7 finished with loss: 0.0900, accuracy: 96.8349%\n",
      "Training epoch 8\n",
      "Epoch 8 finished with loss: 0.0839, accuracy: 96.9872%\n",
      "Training epoch 9\n",
      "Epoch 9 finished with loss: 0.0811, accuracy: 97.1434%\n",
      "Training epoch 10\n",
      "Epoch 10 finished with loss: 0.0737, accuracy: 97.5521%\n"
     ]
    }
   ],
   "source": [
    "losses = []\n",
    "accuracies = []\n",
    "epochs = 10\n",
    "\n",
    "for epoch in range(epochs):\n",
    "    print(f\"Training epoch {epoch+1}\")\n",
    "    model.train()\n",
    "    \n",
    "    epoch_loss = 0\n",
    "    correct_predictions = 0\n",
    "    total_predictions = 0\n",
    "    \n",
    "    for batch in train_loader:\n",
    "        data = batch['input_ids'].to(device)\n",
    "        labels = batch['label_id'].to(device).float()\n",
    "        \n",
    "        # Forward pass\n",
    "        output = model(data)\n",
    "        loss = criterion(output, labels)\n",
    "        \n",
    "        # Backpropagation\n",
    "        optimizer.zero_grad()\n",
    "        loss.backward()\n",
    "        clip_gradients(model)  # Clip gradients for stability\n",
    "        optimizer.step()\n",
    "        \n",
    "        # Accumulate batch loss and calculate batch accuracy\n",
    "        epoch_loss += loss.item() * data.size(0)  # Multiply by batch size to get total batch loss\n",
    "        predictions = (output >= 0.5).float()  # Convert output probabilities to binary predictions\n",
    "        correct_predictions += (predictions == labels).sum().item()\n",
    "        total_predictions += labels.size(0)\n",
    "    \n",
    "    # Calculate and store average loss and accuracy for the epoch\n",
    "    avg_loss = epoch_loss / total_predictions\n",
    "    accuracy = correct_predictions / total_predictions\n",
    "    \n",
    "    losses.append(avg_loss)\n",
    "    accuracies.append(accuracy)\n",
    "    \n",
    "    print(f\"Epoch {epoch+1} finished with loss: {avg_loss:.4f}, accuracy: {accuracy:.4%}\")"
   ]
  },
  {
   "cell_type": "code",
   "execution_count": 66,
   "metadata": {},
   "outputs": [
    {
     "name": "stdout",
     "output_type": "stream",
     "text": [
      "Testset accuracy: 78.0%, average loss: 0.948650\n"
     ]
    }
   ],
   "source": [
    "ex2_test_loss, ex2_test_acc = test(test_loader, model, criterion)"
   ]
  },
  {
   "cell_type": "code",
   "execution_count": 67,
   "metadata": {},
   "outputs": [
    {
     "data": {
      "image/png": "[encoded data removed]",
      "text/plain": [
       "<Figure size 640x480 with 2 Axes>"
      ]
     },
     "metadata": {},
     "output_type": "display_data"
    }
   ],
   "source": [
    "plt.subplot(2,1,1)\n",
    "plt.plot(losses, label='train')\n",
    "plt.plot([0,epochs-1], [ex2_test_loss, ex2_test_loss], label='test')\n",
    "plt.ylabel(\"Loss\")\n",
    "plt.legend()\n",
    "\n",
    "plt.subplot(2,1,2)\n",
    "plt.plot(accuracies, label='train')\n",
    "plt.plot([0,epochs-1], [ex2_test_acc, ex2_test_acc], label='test')\n",
    "plt.ylabel(\"Accuracy\")\n",
    "plt.legend();"
   ]
  },
  {
   "cell_type": "markdown",
   "metadata": {},
   "source": [
    "## Extra: View model summary\n",
    "\n",
    "One way to view more information about the model is to use an external package such as [Torchinfo](https://github.com/TylerYep/torchinfo). It is not installed in the standard Pytorch module in LUMI, so you need to install it using pip:"
   ]
  },
  {
   "cell_type": "code",
   "execution_count": 37,
   "metadata": {},
   "outputs": [
    {
     "name": "stderr",
     "output_type": "stream",
     "text": [
      "huggingface/tokenizers: The current process just got forked, after parallelism has already been used. Disabling parallelism to avoid deadlocks...\n",
      "To disable this warning, you can either:\n",
      "\t- Avoid using `tokenizers` before the fork if possible\n",
      "\t- Explicitly set the environment variable TOKENIZERS_PARALLELISM=(true | false)\n"
     ]
    },
    {
     "name": "stdout",
     "output_type": "stream",
     "text": [
      "Defaulting to user installation because normal site-packages is not writeable\n",
      "Requirement already satisfied: torchinfo in /pfs/lustrep1/users/sabdulla/.local/lib/python3.10/site-packages (1.8.0)\n"
     ]
    }
   ],
   "source": [
    "!pip3 install torchinfo"
   ]
  },
  {
   "cell_type": "code",
   "execution_count": 38,
   "metadata": {},
   "outputs": [],
   "source": [
    "from torchinfo import summary"
   ]
  },
  {
   "cell_type": "code",
   "execution_count": 39,
   "metadata": {},
   "outputs": [
    {
     "name": "stdout",
     "output_type": "stream",
     "text": [
      "============================================================================================================================================\n",
      "Layer (type:depth-idx)                   Input Shape               Output Shape              Kernel Shape              Param #\n",
      "============================================================================================================================================\n",
      "TwoLayeredRNN                            [128, 80]                 [128]                     --                        --\n",
      "├─Embedding: 1-1                         [128, 80]                 [128, 80, 50]             --                        500,000\n",
      "│    └─weight                                                                                [50, 10000]               └─500,000\n",
      "├─Dropout: 1-2                           [128, 80, 50]             [128, 80, 50]             --                        --\n",
      "├─LSTM: 1-3                              [128, 80, 50]             [128, 80, 64]             --                        46,592\n",
      "│    └─weight_ih_l0                                                                          [128, 50]                 ├─6,400\n",
      "│    └─weight_hh_l0                                                                          [128, 32]                 ├─4,096\n",
      "│    └─bias_ih_l0                                                                            [128]                     ├─128\n",
      "│    └─bias_hh_l0                                                                            [128]                     ├─128\n",
      "│    └─weight_ih_l0_reverse                                                                  [128, 50]                 ├─6,400\n",
      "│    └─weight_hh_l0_reverse                                                                  [128, 32]                 ├─4,096\n",
      "│    └─bias_ih_l0_reverse                                                                    [128]                     ├─128\n",
      "│    └─bias_hh_l0_reverse                                                                    [128]                     ├─128\n",
      "│    └─weight_ih_l1                                                                          [128, 64]                 ├─8,192\n",
      "│    └─weight_hh_l1                                                                          [128, 32]                 ├─4,096\n",
      "│    └─bias_ih_l1                                                                            [128]                     ├─128\n",
      "│    └─bias_hh_l1                                                                            [128]                     ├─128\n",
      "│    └─weight_ih_l1_reverse                                                                  [128, 64]                 ├─8,192\n",
      "│    └─weight_hh_l1_reverse                                                                  [128, 32]                 ├─4,096\n",
      "│    └─bias_ih_l1_reverse                                                                    [128]                     ├─128\n",
      "│    └─bias_hh_l1_reverse                                                                    [128]                     └─128\n",
      "├─Linear: 1-4                            [128, 64]                 [128, 1]                  --                        65\n",
      "│    └─weight                                                                                [64, 1]                   ├─64\n",
      "│    └─bias                                                                                  [1]                       └─1\n",
      "├─Sigmoid: 1-5                           [128]                     [128]                     --                        --\n",
      "============================================================================================================================================\n",
      "Total params: 546,657\n",
      "Trainable params: 546,657\n",
      "Non-trainable params: 0\n",
      "Total mult-adds (M): 541.11\n",
      "============================================================================================================================================\n",
      "Input size (MB): 0.08\n",
      "Forward/backward pass size (MB): 9.34\n",
      "Params size (MB): 2.19\n",
      "Estimated Total Size (MB): 11.61\n",
      "============================================================================================================================================\n"
     ]
    }
   ],
   "source": [
    "summary(ex1_model, input_size=(batch_size, vec_length), dtypes=[torch.long],\n",
    "        col_names=[\"input_size\", \"output_size\", \"kernel_size\", \"num_params\"], verbose=2);"
   ]
  },
  {
   "cell_type": "code",
   "execution_count": 57,
   "metadata": {},
   "outputs": [
    {
     "name": "stdout",
     "output_type": "stream",
     "text": [
      "============================================================================================================================================\n",
      "Layer (type:depth-idx)                   Input Shape               Output Shape              Kernel Shape              Param #\n",
      "============================================================================================================================================\n",
      "GRURNN                                   [128, 80]                 [128]                     --                        --\n",
      "├─Embedding: 1-1                         [128, 80]                 [128, 80, 50]             --                        500,000\n",
      "│    └─weight                                                                                [50, 10000]               └─500,000\n",
      "├─Dropout: 1-2                           [128, 80, 50]             [128, 80, 50]             --                        --\n",
      "├─GRU: 1-3                               [128, 80, 50]             [128, 80, 64]             --                        34,944\n",
      "│    └─weight_ih_l0                                                                          [96, 50]                  ├─4,800\n",
      "│    └─weight_hh_l0                                                                          [96, 32]                  ├─3,072\n",
      "│    └─bias_ih_l0                                                                            [96]                      ├─96\n",
      "│    └─bias_hh_l0                                                                            [96]                      ├─96\n",
      "│    └─weight_ih_l0_reverse                                                                  [96, 50]                  ├─4,800\n",
      "│    └─weight_hh_l0_reverse                                                                  [96, 32]                  ├─3,072\n",
      "│    └─bias_ih_l0_reverse                                                                    [96]                      ├─96\n",
      "│    └─bias_hh_l0_reverse                                                                    [96]                      ├─96\n",
      "│    └─weight_ih_l1                                                                          [96, 64]                  ├─6,144\n",
      "│    └─weight_hh_l1                                                                          [96, 32]                  ├─3,072\n",
      "│    └─bias_ih_l1                                                                            [96]                      ├─96\n",
      "│    └─bias_hh_l1                                                                            [96]                      ├─96\n",
      "│    └─weight_ih_l1_reverse                                                                  [96, 64]                  ├─6,144\n",
      "│    └─weight_hh_l1_reverse                                                                  [96, 32]                  ├─3,072\n",
      "│    └─bias_ih_l1_reverse                                                                    [96]                      ├─96\n",
      "│    └─bias_hh_l1_reverse                                                                    [96]                      └─96\n",
      "├─Dropout: 1-4                           [128, 64]                 [128, 64]                 --                        --\n",
      "├─Linear: 1-5                            [128, 64]                 [128, 1]                  --                        65\n",
      "│    └─weight                                                                                [64, 1]                   ├─64\n",
      "│    └─bias                                                                                  [1]                       └─1\n",
      "├─Sigmoid: 1-6                           [128]                     [128]                     --                        --\n",
      "============================================================================================================================================\n",
      "Total params: 535,009\n",
      "Trainable params: 535,009\n",
      "Non-trainable params: 0\n",
      "Total mult-adds (M): 421.83\n",
      "============================================================================================================================================\n",
      "Input size (MB): 0.08\n",
      "Forward/backward pass size (MB): 9.34\n",
      "Params size (MB): 2.14\n",
      "Estimated Total Size (MB): 11.56\n",
      "============================================================================================================================================\n"
     ]
    }
   ],
   "source": [
    "summary(ext2_model, input_size=(batch_size, vec_length), dtypes=[torch.long],\n",
    "        col_names=[\"input_size\", \"output_size\", \"kernel_size\", \"num_params\"], verbose=2);"
   ]
  },
  {
   "cell_type": "code",
   "execution_count": null,
   "metadata": {},
   "outputs": [],
   "source": []
  }
 ],
 "metadata": {
  "kernelspec": {
   "display_name": "Python 3 (ipykernel)",
   "language": "python",
   "name": "python3"
  },
  "language_info": {
   "codemirror_mode": {
    "name": "ipython",
    "version": 3
   },
   "file_extension": ".py",
   "mimetype": "text/x-python",
   "name": "python",
   "nbconvert_exporter": "python",
   "pygments_lexer": "ipython3",
   "version": "3.10.12"
  }
 },
 "nbformat": 4,
 "nbformat_minor": 4
}
